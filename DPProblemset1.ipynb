{
 "cells": [
  {
   "cell_type": "markdown",
   "id": "f5e685a6",
   "metadata": {},
   "source": [
    "# 1)What data type is each of the following (evaluate where necessary)?"
   ]
  },
  {
   "cell_type": "markdown",
   "id": "c98908c7",
   "metadata": {},
   "source": [
    "5-Integer\n",
    "5.0-Float\n",
    "5 > 1-Boolean\n",
    "'5'-Character\n",
    "5 * 2-Integer\n",
    "'5' * 2-String\n",
    "'5' + '2'-String\n",
    "5 / 2-Float\n",
    "5 % 2-Integer\n",
    "{5, 2, 1}-Set\n",
    "5 == 3- Boolean\n",
    "Pi (the number)-Double"
   ]
  },
  {
   "cell_type": "markdown",
   "id": "7fa93701",
   "metadata": {},
   "source": [
    "# 2) Write (and evaluate) python expressions that answer these questions:"
   ]
  },
  {
   "cell_type": "markdown",
   "id": "c679c45a",
   "metadata": {},
   "source": [
    "## a. How many letters are there in 'Supercalifragilisticexpialidocious'?"
   ]
  },
  {
   "cell_type": "code",
   "execution_count": 26,
   "id": "87b2b582",
   "metadata": {},
   "outputs": [
    {
     "name": "stdout",
     "output_type": "stream",
     "text": [
      "34\n"
     ]
    }
   ],
   "source": [
    "x='Supercalifragilisticexpialidocious'\n",
    "print(len(x))"
   ]
  },
  {
   "cell_type": "markdown",
   "id": "c6907cc1",
   "metadata": {},
   "source": [
    "## b. Does 'Supercalifragilisticexpialidocious' contain 'ice' as a substring?"
   ]
  },
  {
   "cell_type": "code",
   "execution_count": 27,
   "id": "b608f979",
   "metadata": {},
   "outputs": [
    {
     "name": "stdout",
     "output_type": "stream",
     "text": [
      "Found\n"
     ]
    }
   ],
   "source": [
    "string= \"Supercalifragilisticexpialidocious\"\n",
    "substring  = \"ice\"\n",
    "\n",
    "if substring in string:\n",
    "    print(\"Found\")\n",
    "else:\n",
    "    print (\"Not Found\")"
   ]
  },
  {
   "cell_type": "markdown",
   "id": "2959d1c7",
   "metadata": {},
   "source": [
    "## c. Which of the following words is the longest:Supercalifragilisticexpialidocious, Honorificabilitudinitatibus, or Bababadalgharaghtakamminarronnkonn?\n",
    "\n"
   ]
  },
  {
   "cell_type": "code",
   "execution_count": 18,
   "id": "c3fd408c",
   "metadata": {},
   "outputs": [
    {
     "name": "stdout",
     "output_type": "stream",
     "text": [
      "Supercalifragilisticexpialidocious and Bababadalgharaghtakamminarronnkonn are longest\n"
     ]
    }
   ],
   "source": [
    "str1 = \"Supercalifragilisticexpialidocious\"\n",
    "str2 = \"Honorificabilitudinitatibus\"\n",
    "str3 = \"Bababadalgharaghtakamminarronnkonn\"\n",
    "   \n",
    "a = len(str1)\n",
    "b = len(str2)\n",
    "c = len(str3)\n",
    "    \n",
    "if(a>b) and (a>c):\n",
    "    print(str1, 'is the longest')\n",
    "elif (b>a) and (b>c):\n",
    "    print(str2, 'is the longest')\n",
    "elif (c>a) and (c>b):\n",
    "    print(str3, 'is the longest')\n",
    "elif (a==b):\n",
    "    print(str1, 'and', str2, 'are longest')\n",
    "elif (a==c):\n",
    "    print(str1, 'and', str3, 'are longest')\n",
    "elif (b==c):\n",
    "    print(str2, 'and', str3, 'are longest')\n",
    "else:\n",
    "    print(\"All are equal and longest\")"
   ]
  },
  {
   "cell_type": "markdown",
   "id": "5844a8f3",
   "metadata": {},
   "source": [
    "## d. Which composer comes first in the dictionary: 'Berlioz', 'Borodin', 'Brian','Bartok', 'Bellini', 'Buxtehude', 'Bernstein'. Which one comes last?\n"
   ]
  },
  {
   "cell_type": "code",
   "execution_count": 17,
   "id": "e2626792",
   "metadata": {},
   "outputs": [
    {
     "name": "stdout",
     "output_type": "stream",
     "text": [
      "Bartok First in dictionary\n",
      "Buxtehude Last in dictionary\n"
     ]
    }
   ],
   "source": [
    "words=['Berlioz', 'Borodin', 'Brian', 'Bartok', 'Bellini', 'Buxtehude', 'Bernstein']\n",
    "words.sort()\n",
    "print(words[0], 'First in dictionary')\n",
    "print(words[6], 'Last in dictionary')"
   ]
  },
  {
   "cell_type": "markdown",
   "id": "b8160798",
   "metadata": {},
   "source": [
    "# 3)Implement function triangleArea(a,b,c) that takes as input the lengths of the 3 sides of a triangle and returns the area of the triangle. By Heron's formula, the area of a triangle with side lengths a, b, and c iss(s - a)(s - b)(s - c) , wheres = (a + b + c) /2\n",
    "\n",
    "\n"
   ]
  },
  {
   "cell_type": "code",
   "execution_count": 16,
   "id": "64285c1d",
   "metadata": {},
   "outputs": [
    {
     "name": "stdout",
     "output_type": "stream",
     "text": [
      "Enter side X :2\n",
      "2.0\n",
      "Enter side Y :2\n",
      "2.0\n",
      "Enter side Z :2\n",
      "2.0\n",
      "area of triangle 1.7320508075688772\n"
     ]
    }
   ],
   "source": [
    "import math\n",
    "X = float(input (\"Enter side X :\"))\n",
    "print(X)\n",
    "Y = float(input (\"Enter side Y :\"))\n",
    "print(Y)\n",
    "Z = float(input (\"Enter side Z :\"))\n",
    "print(Z)\n",
    "W= (X + Y + Z) // 2\n",
    "area = math.sqrt(W * (W - X) * (W - Y) * (W - Z))\n",
    "print(\"area of triangle\",area)\n"
   ]
  },
  {
   "cell_type": "markdown",
   "id": "0609a8be",
   "metadata": {},
   "source": [
    "# 4)Write a program in python to separate odd and even integers in separate arrays."
   ]
  },
  {
   "cell_type": "code",
   "execution_count": null,
   "id": "c1947d81",
   "metadata": {},
   "outputs": [],
   "source": [
    "NumList = []\n",
    "Even = []\n",
    "Odd = []\n",
    " \n",
    "Number = int(input(\"How many elements in list :- \"))\n",
    " \n",
    "for i in range(1, Number + 1):\n",
    "    value = int(input(\"Please enter the Value of %d Element :- \" %i))\n",
    "    NumList.append(value)\n",
    " \n",
    " for j in range(Number):\n",
    "    if(NumList[j] % 2 == 0):\n",
    "        Even.append(NumList[j])\n",
    "    else:\n",
    "        Odd.append(NumList[j])\n",
    " \n",
    " print(\"\\n Element in Even List is : \", Even)\n",
    "print(\"\\n Element in Odd List is : \", Odd)"
   ]
  },
  {
   "cell_type": "markdown",
   "id": "1a56641a",
   "metadata": {},
   "source": [
    "# 5)a. Write a function inside(x,y,x1,y1,x2,y2) that returns True or False depending on whether the point (x,y) lies in the rectangle with lower left corner (x1,y1) and upper right corner (x2,y2).\n",
    "\n"
   ]
  },
  {
   "cell_type": "code",
   "execution_count": 1,
   "id": "d163d6f1",
   "metadata": {},
   "outputs": [
    {
     "name": "stdout",
     "output_type": "stream",
     "text": [
      "1\n",
      "1\n",
      "0\n",
      "0\n",
      "2\n",
      "3\n",
      "True\n"
     ]
    }
   ],
   "source": [
    "def FindPoint(x1, y1, x2,\n",
    "              y2, x, y) :\n",
    "    if (x > x1 and x < x2 and\n",
    "        y > y1 and y < y2) :\n",
    "        return True\n",
    "    else :\n",
    "        return False\n",
    " \n",
    "x=int(input())\n",
    "y=int(input())\n",
    "x1=int(input())\n",
    "y1=int(input())\n",
    "x2=int(input())\n",
    "y2=int(input())\n",
    "FindPoint(x1, y1, x2,\n",
    "              y2, x, y) \n",
    "print(FindPoint(x1, y1, x2,\n",
    "              y2, x, y))"
   ]
  },
  {
   "cell_type": "markdown",
   "id": "ee59cce6",
   "metadata": {},
   "source": [
    "# b.Use function inside() from part a. to write an expression that tests whether the point (1,1) lies in both of the following rectangles: one with lower left corner (0.3, 0.5) and upper right corner (1.1, 0.7) and the other with lower left corner (0.5, 0.2) and upper right corner (1.1, 2).\n",
    "\n",
    "\n"
   ]
  },
  {
   "cell_type": "code",
   "execution_count": 2,
   "id": "d65e3dab",
   "metadata": {},
   "outputs": [
    {
     "name": "stdout",
     "output_type": "stream",
     "text": [
      "1\n",
      "1\n",
      "0.5\n",
      "0.2\n",
      "1.1\n",
      "2\n",
      "True\n"
     ]
    }
   ],
   "source": [
    "def FindPoint(x1, y1, x2,\n",
    "              y2, x, y) :\n",
    "    if (x > x1 and x < x2 and\n",
    "        y > y1 and y < y2) :\n",
    "        return True\n",
    "    else :\n",
    "        return False\n",
    " \n",
    "x=float(input())\n",
    "y=float(input())\n",
    "x1=float(input())\n",
    "y1=float(input())\n",
    "x2=float(input())\n",
    "y2=float(input())\n",
    "FindPoint(x1, y1, x2,\n",
    "              y2, x, y) \n",
    "print(FindPoint(x1, y1, x2,\n",
    "              y2, x, y))"
   ]
  },
  {
   "cell_type": "markdown",
   "id": "f246ea0a",
   "metadata": {},
   "source": [
    "# 6)You can turn a word into pig-Latin using the following two rules (simplified): • If the word starts with a consonant, move that letter to the end and append 'ay'. For example, 'happy' becomes 'appyhay' and 'pencil' becomes 'encilpay'.\n",
    "\n",
    "\n"
   ]
  },
  {
   "cell_type": "code",
   "execution_count": 29,
   "id": "cf740982",
   "metadata": {},
   "outputs": [
    {
     "name": "stdout",
     "output_type": "stream",
     "text": [
      "implesay\n",
      "encilpay\n"
     ]
    }
   ],
   "source": [
    "def pig(strr):\n",
    "    strr = str.lower(strr);\n",
    "    vowel = \"aeiou\"\n",
    "    \n",
    "    if (strr[0] in vowel):\n",
    "        strr = strr + \"way\"\n",
    "        \n",
    "    else:\n",
    "        temp = strr[0]\n",
    "        strr = strr[1:]\n",
    "        strr = strr + temp + \"ay\"\n",
    "    print(strr);\n",
    "\n",
    "\n",
    "pig(\"simple\")\n",
    "pig(\"pencil\")"
   ]
  },
  {
   "cell_type": "markdown",
   "id": "b30a379e",
   "metadata": {},
   "source": [
    "# 7)File bloodtype1.txt records blood-types of patients (A, B, AB, O or OO) at a clinic.Write a function bldcount() that reads the file with name name and reports (i.e.,prints) how many patients there are in each bloodtype.\n",
    "\n"
   ]
  },
  {
   "cell_type": "code",
   "execution_count": null,
   "id": "64a00028",
   "metadata": {},
   "outputs": [],
   "source": []
  },
  {
   "cell_type": "markdown",
   "id": "e98a97e5",
   "metadata": {},
   "source": [
    "# 8)Write a function curconv() that takes as input: \n",
    "\n",
    "\n",
    "\n"
   ]
  },
  {
   "cell_type": "markdown",
   "id": "ea920ff1",
   "metadata": {},
   "source": [
    "## 1. a currency represented using a string (e.g., 'JPY' for the Japanese Yen or 'EUR' for the Euro)\n"
   ]
  },
  {
   "cell_type": "markdown",
   "id": "0ed5812b",
   "metadata": {},
   "source": [
    "## 2. an amount and then converts and returns the amount in US dollars.\n"
   ]
  },
  {
   "cell_type": "code",
   "execution_count": 6,
   "id": "d2119c63",
   "metadata": {},
   "outputs": [],
   "source": [
    "def curconv(currency,amount):\n",
    "    file = open(\"currencies.txt\", \"r\")\n",
    "    fileRead = file.readlines()\n",
    "    file.close()\n",
    "    for file in fileRead :\n",
    "        group = file.split()\n",
    "        if currency == group[0]:\n",
    "            rate = float(group[1])\n",
    "            value = amount * rate\n",
    "        \n",
    "    print(value)   \n",
    "        \n",
    "curconv('EUR',100)\n",
    "curconv('JPY',100)   \n",
    "        "
   ]
  },
  {
   "cell_type": "markdown",
   "id": "26acea38",
   "metadata": {},
   "source": [
    "# 9)Each of the following will cause an exception (an error). Identify what type of exception each will cause.\n",
    "\n"
   ]
  },
  {
   "cell_type": "code",
   "execution_count": null,
   "id": "96f7e55e",
   "metadata": {},
   "outputs": [],
   "source": []
  },
  {
   "cell_type": "markdown",
   "id": "26b39cad",
   "metadata": {},
   "source": [
    "Trying to add incompatible variables, as in adding 6 + ‘a’ - TypeError\n",
    "\n",
    "Referring to the 12th item of a list that has only 10 items - IndexError\n",
    "\n",
    "Using a value that is out of range for a function’s input, such as calling math.sqrt(-1.0) - ValueError\n",
    "\n",
    "Using an undeclared variable, such as print(x) when x has not been defined - NameError\n",
    "\n",
    "Trying to open a file that does not exist, such as mistyping the file name or looking in the wrong directory. - FileNotFoundError\n"
   ]
  },
  {
   "cell_type": "markdown",
   "id": "9d502519",
   "metadata": {},
   "source": [
    "# 10)Encryption"
   ]
  },
  {
   "cell_type": "code",
   "execution_count": 12,
   "id": "a7be8214",
   "metadata": {},
   "outputs": [
    {
     "name": "stdout",
     "output_type": "stream",
     "text": [
      "[1, 0, 1, 2, 4, 0, 0, 0, 1, 0, 0, 1, 0, 2, 2, 2, 0, 1, 1, 1, 0, 1, 1, 0, 0, 0]\n",
      "[1, 0, 0, 0, 1, 0, 0, 0, 0, 0, 0, 1, 0, 0, 0, 2, 0, 0, 0, 0, 0, 0, 0, 0, 0, 0]\n"
     ]
    }
   ],
   "source": [
    "def frequencies(strr):\n",
    "    letters = \"abcdefghijklmnopqrstuvwxyz\" \n",
    "    #arr = [0,0,0,0,0,0,0,0,0,0,0,0,0,0,0,0,0,0,0,0,0,0,0,0,0,0]\n",
    "    arr = [0] * 26\n",
    "    strr = strr.lower()\n",
    "    \n",
    "    for i in range(len(strr)):\n",
    "        for j in range(len(letters)):\n",
    "            if(strr[i] == letters[j]):\n",
    "                arr[j] = arr[j] + 1\n",
    "            j = j + 1\n",
    "        i = i + 1\n",
    "    print(arr)\n",
    "                \n",
    "frequencies(\"Newton discovered apple\")\n",
    "frequencies(\"apple\")"
   ]
  },
  {
   "cell_type": "code",
   "execution_count": null,
   "id": "ff776719",
   "metadata": {},
   "outputs": [],
   "source": []
  }
 ],
 "metadata": {
  "kernelspec": {
   "display_name": "Python 3 (ipykernel)",
   "language": "python",
   "name": "python3"
  },
  "language_info": {
   "codemirror_mode": {
    "name": "ipython",
    "version": 3
   },
   "file_extension": ".py",
   "mimetype": "text/x-python",
   "name": "python",
   "nbconvert_exporter": "python",
   "pygments_lexer": "ipython3",
   "version": "3.9.12"
  }
 },
 "nbformat": 4,
 "nbformat_minor": 5
}
